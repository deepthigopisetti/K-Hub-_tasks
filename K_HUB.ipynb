{
  "nbformat": 4,
  "nbformat_minor": 0,
  "metadata": {
    "colab": {
      "provenance": [],
      "authorship_tag": "ABX9TyNxu5ut/SbU7XSuhNQCNJgC",
      "include_colab_link": true
    },
    "kernelspec": {
      "name": "python3",
      "display_name": "Python 3"
    },
    "language_info": {
      "name": "python"
    }
  },
  "cells": [
    {
      "cell_type": "markdown",
      "metadata": {
        "id": "view-in-github",
        "colab_type": "text"
      },
      "source": [
        "<a href=\"https://colab.research.google.com/github/deepthigopisetti/K-Hub-_tasks/blob/main/K_HUB.ipynb\" target=\"_parent\"><img src=\"https://colab.research.google.com/assets/colab-badge.svg\" alt=\"Open In Colab\"/></a>"
      ]
    },
    {
      "cell_type": "markdown",
      "source": [
        "# 03/08/2025"
      ],
      "metadata": {
        "id": "z6wgYH-gmpti"
      }
    },
    {
      "cell_type": "markdown",
      "source": [
        "strings:\n",
        "definition:\n",
        "      The strings are the character that are denoted in TEXT formate\n",
        "      (\" \") & ('  ')\n",
        "  \n"
      ],
      "metadata": {
        "id": "h8LsHYs3nLaT"
      }
    },
    {
      "cell_type": "code",
      "source": [
        "str='Deepthi'\n",
        "print(str)"
      ],
      "metadata": {
        "colab": {
          "base_uri": "https://localhost:8080/"
        },
        "id": "Qq0CCtQum7Iu",
        "outputId": "3cf6c023-517a-4d57-d505-8eb5d87881ff"
      },
      "execution_count": null,
      "outputs": [
        {
          "output_type": "stream",
          "name": "stdout",
          "text": [
            "Deepthi\n"
          ]
        }
      ]
    },
    {
      "cell_type": "code",
      "source": [
        "#len(str)\n",
        "str=\"Gopisetti Hema Sai Deepthi\"\n",
        "print(str)\n",
        "print(len(str))"
      ],
      "metadata": {
        "colab": {
          "base_uri": "https://localhost:8080/"
        },
        "id": "83ZzWOm2HYio",
        "outputId": "2d669167-342a-4d91-e920-dad4492c5e4e"
      },
      "execution_count": null,
      "outputs": [
        {
          "output_type": "stream",
          "name": "stdout",
          "text": [
            "Gopisetti Hema Sai Deepthi\n",
            "26\n"
          ]
        }
      ]
    },
    {
      "cell_type": "code",
      "source": [
        "#cobime the two strings:\n",
        "str1=\"Hema\"\n",
        "str2=\"Sai\"\n",
        "print(str1 + str2)"
      ],
      "metadata": {
        "colab": {
          "base_uri": "https://localhost:8080/"
        },
        "id": "roYe-NetICnG",
        "outputId": "0767f761-737a-49c2-8c26-5b6cf9a0aef4"
      },
      "execution_count": null,
      "outputs": [
        {
          "output_type": "stream",
          "name": "stdout",
          "text": [
            "HemaSai\n"
          ]
        }
      ]
    },
    {
      "cell_type": "code",
      "source": [
        "name = \"Nagu\"\n",
        "f\"Hello, {name}!\""
      ],
      "metadata": {
        "colab": {
          "base_uri": "https://localhost:8080/",
          "height": 36
        },
        "id": "S1u7hakiLshL",
        "outputId": "21164ecb-0593-4e9a-fdc6-80e8bc0875b3"
      },
      "execution_count": null,
      "outputs": [
        {
          "output_type": "execute_result",
          "data": {
            "text/plain": [
              "'Hello, Nagu!'"
            ],
            "application/vnd.google.colaboratory.intrinsic+json": {
              "type": "string"
            }
          },
          "metadata": {},
          "execution_count": 13
        }
      ]
    },
    {
      "cell_type": "code",
      "source": [
        "a=\"abc\"\n",
        "print(a.split())"
      ],
      "metadata": {
        "colab": {
          "base_uri": "https://localhost:8080/"
        },
        "id": "pCfvEsaiNN2N",
        "outputId": "b79ab67f-d305-4a68-c066-a5764d05f5ac"
      },
      "execution_count": null,
      "outputs": [
        {
          "output_type": "stream",
          "name": "stdout",
          "text": [
            "['abc']\n"
          ]
        }
      ]
    },
    {
      "cell_type": "code",
      "source": [
        "#capitalize:covert only 1st letter into upper case\n",
        "a=\"hello , this is deepu\"\n",
        "b=a.capitalize()\n",
        "print(a)\n",
        "\n",
        "#casefold:\n",
        "a=\"HELLO,THIS IS DEEPU\"\n",
        "b=a.casefold()\n",
        "print(b)\n",
        "\n",
        "#center:\n",
        "a=\"DEEPU\"\n",
        "b=a.center(10)\n",
        "print(b)\n",
        "#\n",
        "a=\"DEEPU\"\n",
        "b=a.center(13,\"O\")\n",
        "print(b)\n",
        "\n",
        "#count:\n",
        "a=\"This is deepu,Deepu is studying\"\n",
        "b=a.count(\"deepu\",11,20)\n",
        "print(b)\n",
        "\n",
        "#encode:\n",
        "a=\"My name is ddeeepu\"\n",
        "b=a.encode()\n",
        "print(b)\n",
        "\n",
        "#endswith:\n",
        "a=\"Hi , This is deepthi\"\n",
        "b=a.endswith(\"i\")\n",
        "print(b)\n",
        "\n",
        "#formate:\n",
        "a=\"the price is high i.e {Price}\"\n",
        "b=a.format(Price=\"30\")\n",
        "print(b)\n",
        "\n",
        "#formatemap:\n",
        "a = {\"name\" : \"Jane\", \"age\" : 36}\n",
        "txt = \"Happy birthday {name} you are now on level {age}!\"\n",
        "print(txt.format_map(a))\n",
        "\n",
        "#index:\n",
        "a=\"hello , this is deepu\"\n",
        "b=a.index(\"this\")\n",
        "print(b)\n",
        "\n",
        "#isalnum:\n",
        "a=\"hello deepu\"\n",
        "b=a.isalnum()\n",
        "print(b)\n",
        "\n",
        "#isalpha:\n",
        "a=\"hello\"\n",
        "b=a.isalpha()\n",
        "print(b)\n",
        "\n",
        "#isidentifier:\n",
        "a=\"hello_d7eepu\"\n",
        "b=a.isidentifier()\n",
        "print(b)\n",
        "\n",
        "#islower:\n",
        "a=\"hello deepu\"\n",
        "b=a.islower()\n",
        "print(b)\n",
        "\n",
        "#swapcase:\n",
        "a=\"This is  DEEPU\"\n",
        "b=a.swapcase()\n",
        "print(b)\n",
        "\n",
        "#title:\n",
        "a=\"This is  DEEPU\"\n",
        "b=a.title()\n",
        "print(b)\n",
        "\n",
        "#translate:\n",
        "my_dic={\"69\":\"89\"}\n",
        "a=\"hello all\"\n",
        "print(a.translate(my_dic))\n",
        "\n",
        "#zfill:\n",
        "a=\"540\"\n",
        "h=a.zfill(15)\n",
        "print(h)"
      ],
      "metadata": {
        "colab": {
          "base_uri": "https://localhost:8080/"
        },
        "id": "tvZyKYbiO1G8",
        "outputId": "fa85b065-0c96-483c-897e-f7fd053e0167"
      },
      "execution_count": 32,
      "outputs": [
        {
          "output_type": "stream",
          "name": "stdout",
          "text": [
            "hello , this is deepu\n",
            "hello,this is deepu\n",
            "  DEEPU   \n",
            "OOOODEEPUOOOO\n",
            "0\n",
            "b'My name is ddeeepu'\n",
            "True\n",
            "the price is high i.e 30\n",
            "Happy birthday Jane you are now on level 36!\n",
            "8\n",
            "False\n",
            "True\n",
            "True\n",
            "True\n",
            "tHIS IS  deepu\n",
            "This Is  Deepu\n",
            "hello all\n",
            "000000000000540\n"
          ]
        }
      ]
    },
    {
      "cell_type": "markdown",
      "source": [
        "boolean:\n"
      ],
      "metadata": {
        "id": "WktudznERcZY"
      }
    },
    {
      "cell_type": "code",
      "source": [
        "a=5\n",
        "b=7954\n",
        "if (b>a):\n",
        "  print(b,\"is greater num\")\n",
        "else:\n",
        "  print(a,\"is greater number\")"
      ],
      "metadata": {
        "colab": {
          "base_uri": "https://localhost:8080/"
        },
        "id": "8hhAcrXhRe3T",
        "outputId": "20604b1f-6f1e-43e0-c600-514ce480ce53"
      },
      "execution_count": 34,
      "outputs": [
        {
          "output_type": "stream",
          "name": "stdout",
          "text": [
            "7954 is greater num\n"
          ]
        }
      ]
    },
    {
      "cell_type": "markdown",
      "source": [
        "Operators"
      ],
      "metadata": {
        "id": "SpnD0_wpSMXN"
      }
    },
    {
      "cell_type": "code",
      "source": [
        "a=5\n",
        "b=3\n",
        "print(a+b)\n",
        "print(a-b)\n",
        "print(a*b)\n",
        "print(a/b)\n",
        "print(a//b)\n",
        "print(a%b)"
      ],
      "metadata": {
        "colab": {
          "base_uri": "https://localhost:8080/"
        },
        "id": "6KK9qoamSPsp",
        "outputId": "46524f58-109d-458f-88ad-8e7dd5d26b21"
      },
      "execution_count": 37,
      "outputs": [
        {
          "output_type": "stream",
          "name": "stdout",
          "text": [
            "8\n",
            "2\n",
            "15\n",
            "1.6666666666666667\n",
            "1\n",
            "2\n",
            "8\n"
          ]
        }
      ]
    },
    {
      "cell_type": "code",
      "source": [
        "#asigmenet opeartors\n",
        "a=int(input(\"enter a num:\"))\n",
        "a+=4\n",
        "print(a)\n",
        "\n",
        "a*=3\n",
        "print(a)\n",
        "\n",
        "a/=4\n",
        "print(a)\n",
        "\n",
        "a%=2\n",
        "print(a)\n",
        "\n",
        "a//=3\n",
        "print(a)\n",
        "\n"
      ],
      "metadata": {
        "colab": {
          "base_uri": "https://localhost:8080/"
        },
        "id": "8hLRprMsXpwP",
        "outputId": "dd097587-06e4-4409-c262-8823f6532e6a"
      },
      "execution_count": 47,
      "outputs": [
        {
          "output_type": "stream",
          "name": "stdout",
          "text": [
            "enter a num:8\n",
            "12\n",
            "36\n",
            "9.0\n",
            "1.0\n",
            "0.0\n"
          ]
        }
      ]
    },
    {
      "cell_type": "markdown",
      "source": [
        "comparsion operator:\n",
        "\n",
        "\n"
      ],
      "metadata": {
        "id": "m20LZm3kbDaL"
      }
    },
    {
      "cell_type": "code",
      "source": [
        "x=2\n",
        "y=8\n",
        "\n",
        "print(x==y)\n",
        "print(x<=y)\n",
        "print(x>=y)\n",
        "print(x>y)\n",
        "print(x<y)\n",
        "print(x!=y)"
      ],
      "metadata": {
        "colab": {
          "base_uri": "https://localhost:8080/"
        },
        "id": "D1G5dYQIbSrH",
        "outputId": "45bf5014-d9cc-4ade-e3a4-929967abb800"
      },
      "execution_count": 48,
      "outputs": [
        {
          "output_type": "stream",
          "name": "stdout",
          "text": [
            "False\n",
            "True\n",
            "False\n",
            "False\n",
            "True\n",
            "True\n"
          ]
        }
      ]
    },
    {
      "cell_type": "markdown",
      "source": [
        "logical code:\n"
      ],
      "metadata": {
        "id": "KTQ6UbN9cQZN"
      }
    },
    {
      "cell_type": "code",
      "source": [
        "a = True\n",
        "b = False\n",
        "\n",
        "print(a and b)\n",
        "print(a or b)\n",
        "print(not a)"
      ],
      "metadata": {
        "colab": {
          "base_uri": "https://localhost:8080/"
        },
        "id": "n8R_W1HXcU5x",
        "outputId": "2ee88542-6363-4225-893d-1c6c89009724"
      },
      "execution_count": 50,
      "outputs": [
        {
          "output_type": "stream",
          "name": "stdout",
          "text": [
            "False\n",
            "True\n",
            "False\n"
          ]
        }
      ]
    },
    {
      "cell_type": "markdown",
      "source": [
        "identity opersators:\n"
      ],
      "metadata": {
        "id": "iYU38tmMczOr"
      }
    },
    {
      "cell_type": "code",
      "source": [
        "a = [8,3]\n",
        "b = a\n",
        "c = [1,2]\n",
        "\n",
        "print(a is b)\n",
        "print(a is c)\n",
        "print(a is not c)"
      ],
      "metadata": {
        "colab": {
          "base_uri": "https://localhost:8080/"
        },
        "id": "Y-7ANl9Rc2Y9",
        "outputId": "93fd9659-6c9d-429a-929e-7344ed339a8e"
      },
      "execution_count": 51,
      "outputs": [
        {
          "output_type": "stream",
          "name": "stdout",
          "text": [
            "True\n",
            "False\n",
            "True\n"
          ]
        }
      ]
    },
    {
      "cell_type": "markdown",
      "source": [
        "membership operators:"
      ],
      "metadata": {
        "id": "z9Lp9hJTdIGL"
      }
    },
    {
      "cell_type": "code",
      "source": [
        "x = [\"apple\", \"banana\"]\n",
        "\n",
        "print(\"banana\" in x)\n",
        "print(\"banana\" not in x)"
      ],
      "metadata": {
        "colab": {
          "base_uri": "https://localhost:8080/"
        },
        "id": "Pc-X1a8idK4e",
        "outputId": "5d047706-a213-4752-9043-e2ec36007062"
      },
      "execution_count": 53,
      "outputs": [
        {
          "output_type": "stream",
          "name": "stdout",
          "text": [
            "True\n",
            "False\n"
          ]
        }
      ]
    },
    {
      "cell_type": "markdown",
      "source": [
        "Bitwise operators:\n"
      ],
      "metadata": {
        "id": "zf5ELGZxdkOX"
      }
    },
    {
      "cell_type": "code",
      "source": [
        "x = 5\n",
        "y = 3\n",
        "\n",
        "print(x & y)\n",
        "print(x | y)\n",
        "print(x ^ y)\n",
        "print(~x)\n",
        "print(x << 1)\n",
        "print(x >> 1)"
      ],
      "metadata": {
        "colab": {
          "base_uri": "https://localhost:8080/"
        },
        "id": "kwNCfOz0dnRd",
        "outputId": "81ec315d-5f2a-42a9-de71-31820e565b38"
      },
      "execution_count": 54,
      "outputs": [
        {
          "output_type": "stream",
          "name": "stdout",
          "text": [
            "1\n",
            "7\n",
            "6\n",
            "-6\n",
            "10\n",
            "2\n"
          ]
        }
      ]
    },
    {
      "cell_type": "markdown",
      "source": [
        "list:changable,ordered,allow duplications."
      ],
      "metadata": {
        "id": "yGSgyN8veGNf"
      }
    },
    {
      "cell_type": "code",
      "source": [
        "my_list = [\"apple\", \"banana\", \"cherry\"]\n",
        "\n",
        "print(my_list[2])\n",
        "\n",
        "fruits[1] = \"orange\"\n",
        "print(my_list)\n",
        "\n",
        "my_list.append(\"grape\")\n",
        "print(my_list)\n",
        "\n",
        "my_list.insert(1, \"kiwi\")\n",
        "print(my_list)\n",
        "\n",
        "my_list.remove(\"apple\")\n",
        "print(my_list)\n",
        "\n",
        "last = my_list.pop()\n",
        "print(my_list)\n",
        "\n",
        "print(my_list[1:3])"
      ],
      "metadata": {
        "colab": {
          "base_uri": "https://localhost:8080/"
        },
        "id": "eJ0NEcHKeQii",
        "outputId": "58960f21-a9fd-4df2-8708-0c3e5e66221c"
      },
      "execution_count": 59,
      "outputs": [
        {
          "output_type": "stream",
          "name": "stdout",
          "text": [
            "cherry\n",
            "['apple', 'banana', 'cherry']\n",
            "['apple', 'banana', 'cherry', 'grape']\n",
            "['apple', 'kiwi', 'banana', 'cherry', 'grape']\n",
            "['kiwi', 'banana', 'cherry', 'grape']\n",
            "['kiwi', 'banana', 'cherry']\n",
            "['banana', 'cherry']\n"
          ]
        }
      ]
    },
    {
      "cell_type": "markdown",
      "source": [
        "list methods:"
      ],
      "metadata": {
        "id": "oZIsSDhGfcMH"
      }
    },
    {
      "cell_type": "code",
      "source": [
        "fruits = [\"banan\", \"banana\", \"cherry\"]\n",
        "print(fruits)\n",
        "\n",
        "fruits.append(\"mango\")\n",
        "print(fruits)\n",
        "\n",
        "fruits.insert(1, \"kiwi\")\n",
        "print(fruits)\n",
        "\n",
        "fruits.remove(\"banana\")\n",
        "print(fruits)\n",
        "\n",
        "fruits.pop()\n",
        "print(fruits)\n",
        "\n",
        "fruits.sort()\n",
        "print(fruits)\n",
        "\n",
        "fruits.reverse()\n",
        "print(fruits)\n",
        "\n",
        "fruits.clear()\n",
        "print(fruits)"
      ],
      "metadata": {
        "colab": {
          "base_uri": "https://localhost:8080/"
        },
        "id": "SkZmKu5offgx",
        "outputId": "98e9f700-4fa5-413d-8ac6-b1100361c6f9"
      },
      "execution_count": 61,
      "outputs": [
        {
          "output_type": "stream",
          "name": "stdout",
          "text": [
            "['banan', 'banana', 'cherry']\n",
            "['banan', 'banana', 'cherry', 'mango']\n",
            "['banan', 'kiwi', 'banana', 'cherry', 'mango']\n",
            "['banan', 'kiwi', 'cherry', 'mango']\n",
            "['banan', 'kiwi', 'cherry']\n",
            "['banan', 'cherry', 'kiwi']\n",
            "['kiwi', 'cherry', 'banan']\n",
            "[]\n"
          ]
        }
      ]
    },
    {
      "cell_type": "markdown",
      "source": [
        "Tuples:\n",
        "      It is used to store multiple items in a single variable. unchangable,ordered"
      ],
      "metadata": {
        "id": "AdOcFgDMfwJ9"
      }
    },
    {
      "cell_type": "code",
      "source": [
        "fruits = (\"orange\", \"apple\", \"banana\")\n",
        "\n",
        "print(fruits[0])\n",
        "\n",
        "print(fruits.count(\"orange\"))\n",
        "\n",
        "print(fruits.index(\"banana\"))\n",
        "\n",
        "o, b, c = fruits\n",
        "print(o,b,c)\n",
        "\n",
        "nested = ((1, 2), (3, 4))\n",
        "print(nested[0][1])\n",
        "\n",
        "name = (\"hello\",)\n",
        "print(type(name))"
      ],
      "metadata": {
        "colab": {
          "base_uri": "https://localhost:8080/"
        },
        "id": "Gk4WGTYBf3Fc",
        "outputId": "d5537194-347c-4466-b535-77d793fdc877"
      },
      "execution_count": 63,
      "outputs": [
        {
          "output_type": "stream",
          "name": "stdout",
          "text": [
            "orange\n",
            "1\n",
            "2\n",
            "orange apple banana\n",
            "2\n",
            "<class 'tuple'>\n"
          ]
        }
      ]
    },
    {
      "cell_type": "markdown",
      "source": [
        "methods of tuples:"
      ],
      "metadata": {
        "id": "MrO2StxrgzsS"
      }
    },
    {
      "cell_type": "code",
      "source": [
        "names= (\"deepu\",\"veera\",\"asha\",\"deepu\",\"nagu\")\n",
        "\n",
        "#count the str\n",
        "n=names.count(\"deepu\")\n",
        "print(n)\n",
        "\n",
        "#find the index\n",
        "n=names.index(\"nagu\")\n",
        "print(n)"
      ],
      "metadata": {
        "colab": {
          "base_uri": "https://localhost:8080/"
        },
        "id": "7VHs7ISQg2Py",
        "outputId": "ad55ec0b-01a1-44a5-9d3a-0918bf1d7acc"
      },
      "execution_count": 65,
      "outputs": [
        {
          "output_type": "stream",
          "name": "stdout",
          "text": [
            "2\n",
            "4\n"
          ]
        }
      ]
    },
    {
      "cell_type": "markdown",
      "source": [
        "sets:unordered, unchangeable*, and unindexed.\n"
      ],
      "metadata": {
        "id": "lFbfsACPhb8l"
      }
    },
    {
      "cell_type": "code",
      "source": [
        "numbers = {1, 2, 3, 4}\n",
        "\n",
        "numbers.add(5)\n",
        "print(numbers)\n",
        "\n",
        "numbers.remove(2)\n",
        "print(numbers)\n",
        "\n",
        "# union\n",
        "a = {1, 2}\n",
        "b = {2, 3}\n",
        "print(a.union(b))\n",
        "\n",
        "# intersection\n",
        "print(a.intersection(b))\n",
        "\n",
        "# difference\n",
        "print(a.difference(b))"
      ],
      "metadata": {
        "colab": {
          "base_uri": "https://localhost:8080/"
        },
        "id": "rQcY-2tThgYA",
        "outputId": "5092b02d-6c0a-4195-ad04-e6e80dff873c"
      },
      "execution_count": 67,
      "outputs": [
        {
          "output_type": "stream",
          "name": "stdout",
          "text": [
            "{1, 2, 3, 4, 5}\n",
            "{1, 3, 4, 5}\n",
            "{1, 2, 3}\n",
            "{2}\n",
            "{1}\n"
          ]
        }
      ]
    },
    {
      "cell_type": "code",
      "source": [
        "a={3,4,6}\n",
        "\n",
        "#adding a num\n",
        "a.add(7)\n",
        "print(a)\n",
        "\n",
        "#removing a num\n",
        "a.remove(4)\n",
        "print(a)\n",
        "\n",
        "#copy the set\n",
        "a.copy()\n",
        "print(a)\n",
        "\n",
        "#discard set\n",
        "a.discard(3)\n",
        "print(a)\n",
        "\n",
        "#clear th set\n",
        "a.clear()\n",
        "print(a)"
      ],
      "metadata": {
        "colab": {
          "base_uri": "https://localhost:8080/"
        },
        "id": "sDuFrqsYiCUx",
        "outputId": "2b0c7b81-bc63-4e97-9119-77b2899e30af"
      },
      "execution_count": 76,
      "outputs": [
        {
          "output_type": "stream",
          "name": "stdout",
          "text": [
            "{3, 4, 6, 7}\n",
            "{3, 6, 7}\n",
            "{3, 6, 7}\n",
            "{6, 7}\n",
            "set()\n"
          ]
        }
      ]
    },
    {
      "cell_type": "markdown",
      "source": [
        "Dictinoary: it has a key and value."
      ],
      "metadata": {
        "id": "svENRuACjbC1"
      }
    },
    {
      "cell_type": "code",
      "source": [
        "student = {\"name\": \"Rahul\", \"age\": 21, \"course\": \"MERN\"}\n",
        "\n",
        "# Access value by key\n",
        "print(student[\"name\"])\n",
        "\n",
        "# Add new key-value pair\n",
        "student[\"grade\"] = \"A\"\n",
        "\n",
        "# Update existing value\n",
        "student[\"age\"] = 22\n",
        "\n",
        "# Remove key\n",
        "student.pop(\"course\")\n",
        "\n",
        "#LOOP\n",
        "for key, value in student.items():\n",
        "    print(key, value)\n",
        "\n",
        "# Check if key exists\n",
        "print(\"name\" in student)\n",
        "\n",
        "# Get value with default\n",
        "print(student.get(\"marks\", 0))"
      ],
      "metadata": {
        "colab": {
          "base_uri": "https://localhost:8080/"
        },
        "id": "kHDEbLR9jiRu",
        "outputId": "412b25b5-24a0-49f0-ead9-d4716e5056b9"
      },
      "execution_count": 75,
      "outputs": [
        {
          "output_type": "stream",
          "name": "stdout",
          "text": [
            "Rahul\n",
            "name Rahul\n",
            "age 22\n",
            "grade A\n",
            "True\n",
            "0\n"
          ]
        }
      ]
    },
    {
      "cell_type": "markdown",
      "source": [
        "dictionary methods:"
      ],
      "metadata": {
        "id": "41dvhHvAkRlj"
      }
    },
    {
      "cell_type": "code",
      "source": [
        "student = {\"name\": \"deepu\", \"age\": 20}\n",
        "\n",
        "student.get(\"age\")\n",
        "print(student)\n",
        "\n",
        "student.keys()\n",
        "print(student)\n",
        "\n",
        "student.values()\n",
        "print(student)\n",
        "\n",
        "student.items()\n",
        "print(student)\n",
        "\n",
        "student.update({\"age\": 20})\n",
        "print(student)\n",
        "\n",
        "student.pop(\"name\")\n",
        "print(student)\n",
        "''\n",
        "student.clear()\n",
        "print(student)"
      ],
      "metadata": {
        "colab": {
          "base_uri": "https://localhost:8080/"
        },
        "id": "uzRVs8rhkUau",
        "outputId": "64f832b9-16e6-4a3d-8cb3-1899faa862cc"
      },
      "execution_count": 79,
      "outputs": [
        {
          "output_type": "stream",
          "name": "stdout",
          "text": [
            "{'name': 'deepu', 'age': 20}\n",
            "{'name': 'deepu', 'age': 20}\n",
            "{'name': 'deepu', 'age': 20}\n",
            "{'name': 'deepu', 'age': 20}\n",
            "{'name': 'deepu', 'age': 20}\n",
            "{'age': 20}\n",
            "{}\n"
          ]
        }
      ]
    },
    {
      "cell_type": "markdown",
      "source": [
        "If-else condition:Equals: a == b\n",
        "Not Equals: a != b\n",
        "Less than: a < b\n",
        "Less than or equal to: a <= b\n",
        "Greater than: a > b\n",
        "Greater than or equal to: a >= b"
      ],
      "metadata": {
        "id": "rzi6paGVkn4T"
      }
    },
    {
      "cell_type": "code",
      "source": [
        "a=int(input(\"enter your age:\"))\n",
        "if a<=5:\n",
        "  print(\"small kids\")\n",
        "else:\n",
        "  print(\"childern\")"
      ],
      "metadata": {
        "colab": {
          "base_uri": "https://localhost:8080/"
        },
        "id": "n_1yRVuwkr0H",
        "outputId": "cc09670c-c86c-4289-a94a-a2b277d4ed78"
      },
      "execution_count": 82,
      "outputs": [
        {
          "output_type": "stream",
          "name": "stdout",
          "text": [
            "enter your age:2\n",
            "small kids\n"
          ]
        }
      ]
    },
    {
      "cell_type": "markdown",
      "source": [
        "while loop:\n"
      ],
      "metadata": {
        "id": "GXKHiXE0lq4p"
      }
    },
    {
      "cell_type": "code",
      "source": [
        "i = 1\n",
        "while i < 6:\n",
        "  print(i)\n",
        "  i += 1"
      ],
      "metadata": {
        "colab": {
          "base_uri": "https://localhost:8080/"
        },
        "id": "kZ8_MDBMltK8",
        "outputId": "7314c090-fe77-4533-b9ee-a46343a0eb3a"
      },
      "execution_count": 87,
      "outputs": [
        {
          "output_type": "stream",
          "name": "stdout",
          "text": [
            "1\n",
            "2\n",
            "3\n",
            "4\n",
            "5\n"
          ]
        }
      ]
    },
    {
      "cell_type": "code",
      "source": [
        "#for loop\n",
        "for i in range(3):\n",
        "  print(\"DEEPU\")\n",
        "\n",
        "#nested loops:\n",
        "adj = [\"red\", \"big\", \"tasty\"]\n",
        "fruits = [\"apple\", \"banana\", \"cherry\"]\n",
        "\n",
        "for x in adj:\n",
        "  for y in fruits:\n",
        "    print(x, y)\n",
        "\n"
      ],
      "metadata": {
        "colab": {
          "base_uri": "https://localhost:8080/"
        },
        "id": "k9tz-5WZmCrG",
        "outputId": "2b609b20-d922-47e4-e738-4ccf5e75a831"
      },
      "execution_count": 90,
      "outputs": [
        {
          "output_type": "stream",
          "name": "stdout",
          "text": [
            "DEEPU\n",
            "DEEPU\n",
            "DEEPU\n",
            "red apple\n",
            "red banana\n",
            "red cherry\n",
            "big apple\n",
            "big banana\n",
            "big cherry\n",
            "tasty apple\n",
            "tasty banana\n",
            "tasty cherry\n"
          ]
        }
      ]
    },
    {
      "cell_type": "markdown",
      "source": [
        "Match statements:\n",
        "Instead of writing many if..else statements, you can use the match statement.syntax:match expression:\n",
        "  case x:\n",
        "    code block\n",
        "  case y:\n",
        "    code block\n",
        "  case z:\n",
        "    code block\n"
      ],
      "metadata": {
        "id": "-b1nZNI4m9wj"
      }
    },
    {
      "cell_type": "code",
      "source": [
        "day = 4\n",
        "match day:\n",
        "  case 1:\n",
        "    print(\"Monday\")\n",
        "  case 2:\n",
        "    print(\"Tuesday\")\n",
        "  case 3:\n",
        "    print(\"Wednesday\")\n",
        "  case 4:\n",
        "    print(\"Thursday\")\n",
        "  case 5:\n",
        "    print(\"Friday\")\n",
        "  case 6:\n",
        "    print(\"Saturday\")\n",
        "  case 7:\n",
        "    print(\"Sunday\")\n",
        "\n",
        "\n",
        "\n",
        "#exaamples:\n",
        "\n",
        "day = 6\n",
        "match day:\n",
        "  case 6:\n",
        "    print(\"Today is Saturday\")\n",
        "  case 8:\n",
        "    print(\"Today is Sunday\")\n",
        "  case _:\n",
        "    print(\"Looking forward to the Weekend\")"
      ],
      "metadata": {
        "colab": {
          "base_uri": "https://localhost:8080/"
        },
        "id": "MwMCvkcunKge",
        "outputId": "4eb7bc0d-0284-4a82-f38f-ae1200a3d049"
      },
      "execution_count": 105,
      "outputs": [
        {
          "output_type": "stream",
          "name": "stdout",
          "text": [
            "Thursday\n",
            "Today is Saturday\n"
          ]
        }
      ]
    }
  ]
}