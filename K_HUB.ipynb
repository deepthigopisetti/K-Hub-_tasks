{
  "nbformat": 4,
  "nbformat_minor": 0,
  "metadata": {
    "colab": {
      "provenance": [],
      "authorship_tag": "ABX9TyNug/d341S0hmEck+VyRyt3",
      "include_colab_link": true
    },
    "kernelspec": {
      "name": "python3",
      "display_name": "Python 3"
    },
    "language_info": {
      "name": "python"
    }
  },
  "cells": [
    {
      "cell_type": "markdown",
      "metadata": {
        "id": "view-in-github",
        "colab_type": "text"
      },
      "source": [
        "<a href=\"https://colab.research.google.com/github/deepthigopisetti/K-Hub-_tasks/blob/main/K_HUB.ipynb\" target=\"_parent\"><img src=\"https://colab.research.google.com/assets/colab-badge.svg\" alt=\"Open In Colab\"/></a>"
      ]
    },
    {
      "cell_type": "markdown",
      "source": [
        "# 03/08/2025"
      ],
      "metadata": {
        "id": "z6wgYH-gmpti"
      }
    },
    {
      "cell_type": "markdown",
      "source": [
        "strings:\n",
        "definition:\n",
        "      The strings are the character that are denoted in TEXT formate\n",
        "      (\" \") & ('  ')\n",
        "  \n"
      ],
      "metadata": {
        "id": "h8LsHYs3nLaT"
      }
    },
    {
      "cell_type": "code",
      "source": [
        "str='Deepthi'\n",
        "print(str)"
      ],
      "metadata": {
        "colab": {
          "base_uri": "https://localhost:8080/"
        },
        "id": "Qq0CCtQum7Iu",
        "outputId": "ee9be68e-5e0b-4e8a-edcc-b7a26ab883cb"
      },
      "execution_count": null,
      "outputs": [
        {
          "output_type": "stream",
          "name": "stdout",
          "text": [
            "Deepthi\n"
          ]
        }
      ]
    },
    {
      "cell_type": "code",
      "source": [
        "#len(str)\n",
        "str=\"Gopisetti Hema Sai Deepthi\"\n",
        "print(str)\n",
        "print(len(str))"
      ],
      "metadata": {
        "colab": {
          "base_uri": "https://localhost:8080/"
        },
        "id": "83ZzWOm2HYio",
        "outputId": "505709e1-1bc4-43ca-e708-f00f106f5d21"
      },
      "execution_count": null,
      "outputs": [
        {
          "output_type": "stream",
          "name": "stdout",
          "text": [
            "Gopisetti Hema Sai Deepthi\n",
            "26\n"
          ]
        }
      ]
    },
    {
      "cell_type": "code",
      "source": [
        "#cobime the two strings:\n",
        "str1=\"Hema\"\n",
        "str2=\"Sai\"\n",
        "print(str1 + str2)"
      ],
      "metadata": {
        "colab": {
          "base_uri": "https://localhost:8080/"
        },
        "id": "roYe-NetICnG",
        "outputId": "c23b9585-35d4-4dd9-a7bf-ada37250b615"
      },
      "execution_count": null,
      "outputs": [
        {
          "output_type": "stream",
          "name": "stdout",
          "text": [
            "HemaSai\n"
          ]
        }
      ]
    },
    {
      "cell_type": "code",
      "source": [
        "name = \"Nagu\"\n",
        "f\"Hello, {name}!\""
      ],
      "metadata": {
        "colab": {
          "base_uri": "https://localhost:8080/",
          "height": 36
        },
        "id": "S1u7hakiLshL",
        "outputId": "ba71c2a7-3e16-4436-8a07-8da72b803619"
      },
      "execution_count": null,
      "outputs": [
        {
          "output_type": "execute_result",
          "data": {
            "text/plain": [
              "'Hello, Nagu!'"
            ],
            "application/vnd.google.colaboratory.intrinsic+json": {
              "type": "string"
            }
          },
          "metadata": {},
          "execution_count": 4
        }
      ]
    },
    {
      "cell_type": "code",
      "source": [
        "a=\"abc\"\n",
        "print(a.split())"
      ],
      "metadata": {
        "colab": {
          "base_uri": "https://localhost:8080/"
        },
        "id": "pCfvEsaiNN2N",
        "outputId": "5de17d8f-e9f7-4f48-abfa-d010c9a638c9"
      },
      "execution_count": null,
      "outputs": [
        {
          "output_type": "stream",
          "name": "stdout",
          "text": [
            "['abc']\n"
          ]
        }
      ]
    },
    {
      "cell_type": "code",
      "source": [
        "#capitalize:covert only 1st letter into upper case\n",
        "a=\"hello , this is deepu\"\n",
        "b=a.capitalize()\n",
        "print(a)\n",
        "\n",
        "#casefold:\n",
        "a=\"HELLO,THIS IS DEEPU\"\n",
        "b=a.casefold()\n",
        "print(b)\n",
        "\n",
        "#center:\n",
        "a=\"DEEPU\"\n",
        "b=a.center(10)\n",
        "print(b)\n",
        "#\n",
        "a=\"DEEPU\"\n",
        "b=a.center(13,\"O\")\n",
        "print(b)\n",
        "\n",
        "#count:\n",
        "a=\"This is deepu,Deepu is studying\"\n",
        "b=a.count(\"deepu\",11,20)\n",
        "print(b)\n",
        "\n",
        "#encode:\n",
        "a=\"My name is ddeeepu\"\n",
        "b=a.encode()\n",
        "print(b)\n",
        "\n",
        "#endswith:\n",
        "a=\"Hi , This is deepthi\"\n",
        "b=a.endswith(\"i\")\n",
        "print(b)\n",
        "\n",
        "#formate:\n",
        "a=\"the price is high i.e {Price}\"\n",
        "b=a.format(Price=\"30\")\n",
        "print(b)\n",
        "\n",
        "#formatemap:\n",
        "a = {\"name\" : \"Jane\", \"age\" : 36}\n",
        "txt = \"Happy birthday {name} you are now on level {age}!\"\n",
        "print(txt.format_map(a))\n",
        "\n",
        "#index:\n",
        "a=\"hello , this is deepu\"\n",
        "b=a.index(\"this\")\n",
        "print(b)\n",
        "\n",
        "#isalnum:\n",
        "a=\"hello deepu\"\n",
        "b=a.isalnum()\n",
        "print(b)\n",
        "\n",
        "#isalpha:\n",
        "a=\"hello\"\n",
        "b=a.isalpha()\n",
        "print(b)\n",
        "\n",
        "#isidentifier:\n",
        "a=\"hello_d7eepu\"\n",
        "b=a.isidentifier()\n",
        "print(b)\n",
        "\n",
        "#islower:\n",
        "a=\"hello deepu\"\n",
        "b=a.islower()\n",
        "print(b)\n",
        "\n",
        "#swapcase:\n",
        "a=\"This is  DEEPU\"\n",
        "b=a.swapcase()\n",
        "print(b)\n",
        "\n",
        "#title:\n",
        "a=\"This is  DEEPU\"\n",
        "b=a.title()\n",
        "print(b)\n",
        "\n",
        "#translate:\n",
        "my_dic={\"69\":\"89\"}\n",
        "a=\"hello all\"\n",
        "print(a.translate(my_dic))\n",
        "\n",
        "#zfill:\n",
        "a=\"540\"\n",
        "h=a.zfill(15)\n",
        "print(h)"
      ],
      "metadata": {
        "colab": {
          "base_uri": "https://localhost:8080/"
        },
        "id": "tvZyKYbiO1G8",
        "outputId": "5c2b9c5f-451f-49b6-eb41-c706b455a71a"
      },
      "execution_count": null,
      "outputs": [
        {
          "output_type": "stream",
          "name": "stdout",
          "text": [
            "hello , this is deepu\n",
            "hello,this is deepu\n",
            "  DEEPU   \n",
            "OOOODEEPUOOOO\n",
            "0\n",
            "b'My name is ddeeepu'\n",
            "True\n",
            "the price is high i.e 30\n",
            "Happy birthday Jane you are now on level 36!\n",
            "8\n",
            "False\n",
            "True\n",
            "True\n",
            "True\n",
            "tHIS IS  deepu\n",
            "This Is  Deepu\n",
            "hello all\n",
            "000000000000540\n"
          ]
        }
      ]
    },
    {
      "cell_type": "markdown",
      "source": [
        "boolean:\n"
      ],
      "metadata": {
        "id": "WktudznERcZY"
      }
    },
    {
      "cell_type": "code",
      "source": [
        "a=5\n",
        "b=7954\n",
        "if (b>a):\n",
        "  print(b,\"is greater num\")\n",
        "else:\n",
        "  print(a,\"is greater number\")"
      ],
      "metadata": {
        "colab": {
          "base_uri": "https://localhost:8080/"
        },
        "id": "8hhAcrXhRe3T",
        "outputId": "0c37be45-5782-476e-a162-7a3180bc8575"
      },
      "execution_count": null,
      "outputs": [
        {
          "output_type": "stream",
          "name": "stdout",
          "text": [
            "7954 is greater num\n"
          ]
        }
      ]
    },
    {
      "cell_type": "markdown",
      "source": [
        "Operators"
      ],
      "metadata": {
        "id": "SpnD0_wpSMXN"
      }
    },
    {
      "cell_type": "code",
      "source": [
        "a=5\n",
        "b=3\n",
        "print(a+b)\n",
        "print(a-b)\n",
        "print(a*b)\n",
        "print(a/b)\n",
        "print(a//b)\n",
        "print(a%b)"
      ],
      "metadata": {
        "colab": {
          "base_uri": "https://localhost:8080/"
        },
        "id": "6KK9qoamSPsp",
        "outputId": "6e8d1ed9-98ec-4ee3-8e32-44a66f348f40"
      },
      "execution_count": null,
      "outputs": [
        {
          "output_type": "stream",
          "name": "stdout",
          "text": [
            "8\n",
            "2\n",
            "15\n",
            "1.6666666666666667\n",
            "1\n",
            "2\n"
          ]
        }
      ]
    },
    {
      "cell_type": "code",
      "source": [
        "#asigmenet opeartors\n",
        "a=int(input(\"enter a num:\"))\n",
        "a+=4\n",
        "print(a)\n",
        "\n",
        "a*=3\n",
        "print(a)\n",
        "\n",
        "a/=4\n",
        "print(a)\n",
        "\n",
        "a%=2\n",
        "print(a)\n",
        "\n",
        "a//=3\n",
        "print(a)\n",
        "\n"
      ],
      "metadata": {
        "colab": {
          "base_uri": "https://localhost:8080/"
        },
        "id": "8hLRprMsXpwP",
        "outputId": "338977bc-0373-4ba5-cb8b-76cab470f9d7"
      },
      "execution_count": null,
      "outputs": [
        {
          "output_type": "stream",
          "name": "stdout",
          "text": [
            "enter a num:5\n",
            "9\n",
            "27\n",
            "6.75\n",
            "0.75\n",
            "0.0\n"
          ]
        }
      ]
    },
    {
      "cell_type": "markdown",
      "source": [
        "comparsion operator:\n",
        "\n",
        "\n"
      ],
      "metadata": {
        "id": "m20LZm3kbDaL"
      }
    },
    {
      "cell_type": "code",
      "source": [
        "x=2\n",
        "y=8\n",
        "\n",
        "print(x==y)\n",
        "print(x<=y)\n",
        "print(x>=y)\n",
        "print(x>y)\n",
        "print(x<y)\n",
        "print(x!=y)"
      ],
      "metadata": {
        "colab": {
          "base_uri": "https://localhost:8080/"
        },
        "id": "D1G5dYQIbSrH",
        "outputId": "88693a16-5209-41bb-9fdb-02188a938ff6"
      },
      "execution_count": null,
      "outputs": [
        {
          "output_type": "stream",
          "name": "stdout",
          "text": [
            "False\n",
            "True\n",
            "False\n",
            "False\n",
            "True\n",
            "True\n"
          ]
        }
      ]
    },
    {
      "cell_type": "markdown",
      "source": [
        "logical code:\n"
      ],
      "metadata": {
        "id": "KTQ6UbN9cQZN"
      }
    },
    {
      "cell_type": "code",
      "source": [
        "a = True\n",
        "b = False\n",
        "\n",
        "print(a and b)\n",
        "print(a or b)\n",
        "print(not a)"
      ],
      "metadata": {
        "colab": {
          "base_uri": "https://localhost:8080/"
        },
        "id": "n8R_W1HXcU5x",
        "outputId": "f1e02991-80a7-41bc-fd8d-764185258cc6"
      },
      "execution_count": null,
      "outputs": [
        {
          "output_type": "stream",
          "name": "stdout",
          "text": [
            "False\n",
            "True\n",
            "False\n"
          ]
        }
      ]
    },
    {
      "cell_type": "markdown",
      "source": [
        "identity opersators:\n"
      ],
      "metadata": {
        "id": "iYU38tmMczOr"
      }
    },
    {
      "cell_type": "code",
      "source": [
        "a = [8,3]\n",
        "b = a\n",
        "c = [1,2]\n",
        "\n",
        "print(a is b)\n",
        "print(a is c)\n",
        "print(a is not c)"
      ],
      "metadata": {
        "colab": {
          "base_uri": "https://localhost:8080/"
        },
        "id": "Y-7ANl9Rc2Y9",
        "outputId": "5602ae71-36cb-4e6f-8c6b-8d0e9b5035e7"
      },
      "execution_count": null,
      "outputs": [
        {
          "output_type": "stream",
          "name": "stdout",
          "text": [
            "True\n",
            "False\n",
            "True\n"
          ]
        }
      ]
    },
    {
      "cell_type": "markdown",
      "source": [
        "membership operators:"
      ],
      "metadata": {
        "id": "z9Lp9hJTdIGL"
      }
    },
    {
      "cell_type": "code",
      "source": [
        "x = [\"apple\", \"banana\"]\n",
        "\n",
        "print(\"banana\" in x)\n",
        "print(\"banana\" not in x)"
      ],
      "metadata": {
        "colab": {
          "base_uri": "https://localhost:8080/"
        },
        "id": "Pc-X1a8idK4e",
        "outputId": "62c6f3f2-b994-48cf-fb15-83387ba49b20"
      },
      "execution_count": null,
      "outputs": [
        {
          "output_type": "stream",
          "name": "stdout",
          "text": [
            "True\n",
            "False\n"
          ]
        }
      ]
    },
    {
      "cell_type": "markdown",
      "source": [
        "Bitwise operators:\n"
      ],
      "metadata": {
        "id": "zf5ELGZxdkOX"
      }
    },
    {
      "cell_type": "code",
      "source": [
        "x = 5\n",
        "y = 3\n",
        "\n",
        "print(x & y)\n",
        "print(x | y)\n",
        "print(x ^ y)\n",
        "print(~x)\n",
        "print(x << 1)\n",
        "print(x >> 1)"
      ],
      "metadata": {
        "colab": {
          "base_uri": "https://localhost:8080/"
        },
        "id": "kwNCfOz0dnRd",
        "outputId": "8904a3d0-6c22-45c7-caf0-af8a510a2eea"
      },
      "execution_count": null,
      "outputs": [
        {
          "output_type": "stream",
          "name": "stdout",
          "text": [
            "1\n",
            "7\n",
            "6\n",
            "-6\n",
            "10\n",
            "2\n"
          ]
        }
      ]
    },
    {
      "cell_type": "markdown",
      "source": [
        "list:changable,ordered,allow duplications."
      ],
      "metadata": {
        "id": "yGSgyN8veGNf"
      }
    },
    {
      "cell_type": "code",
      "source": [
        "my_list = [\"apple\", \"banana\", \"cherry\"]\n",
        "\n",
        "print(my_list[2])\n",
        "\n",
        "my_list[1] = \"orange\"\n",
        "print(my_list)\n",
        "\n",
        "my_list.append(\"grape\")\n",
        "print(my_list)\n",
        "\n",
        "my_list.insert(1, \"kiwi\")\n",
        "print(my_list)\n",
        "\n",
        "my_list.remove(\"apple\")\n",
        "print(my_list)\n",
        "\n",
        "last = my_list.pop()\n",
        "print(my_list)\n",
        "\n",
        "print(my_list[1:3])"
      ],
      "metadata": {
        "colab": {
          "base_uri": "https://localhost:8080/"
        },
        "id": "eJ0NEcHKeQii",
        "outputId": "e92e6b07-77b2-4855-bf41-d4d24e28ef59"
      },
      "execution_count": null,
      "outputs": [
        {
          "output_type": "stream",
          "name": "stdout",
          "text": [
            "cherry\n",
            "['apple', 'orange', 'cherry']\n",
            "['apple', 'orange', 'cherry', 'grape']\n",
            "['apple', 'kiwi', 'orange', 'cherry', 'grape']\n",
            "['kiwi', 'orange', 'cherry', 'grape']\n",
            "['kiwi', 'orange', 'cherry']\n",
            "['orange', 'cherry']\n"
          ]
        }
      ]
    },
    {
      "cell_type": "markdown",
      "source": [
        "list methods:"
      ],
      "metadata": {
        "id": "oZIsSDhGfcMH"
      }
    },
    {
      "cell_type": "code",
      "source": [
        "fruits = [\"banan\", \"banana\", \"cherry\"]\n",
        "print(fruits)\n",
        "\n",
        "fruits.append(\"mango\")\n",
        "print(fruits)\n",
        "\n",
        "fruits.insert(1, \"apple\")\n",
        "print(fruits)\n",
        "\n",
        "fruits.remove(\"banana\")\n",
        "print(fruits)\n",
        "\n",
        "fruits.pop()\n",
        "print(fruits)\n",
        "\n",
        "fruits.sort()\n",
        "print(fruits)\n",
        "\n",
        "fruits.reverse()\n",
        "print(fruits)\n",
        "\n",
        "fruits.clear()\n",
        "print(fruits)"
      ],
      "metadata": {
        "colab": {
          "base_uri": "https://localhost:8080/"
        },
        "id": "SkZmKu5offgx",
        "outputId": "f7f3c1cb-124a-4479-f66f-462b45aba736"
      },
      "execution_count": null,
      "outputs": [
        {
          "output_type": "stream",
          "name": "stdout",
          "text": [
            "['banan', 'banana', 'cherry']\n",
            "['banan', 'banana', 'cherry', 'mango']\n",
            "['banan', 'apple', 'banana', 'cherry', 'mango']\n",
            "['banan', 'apple', 'cherry', 'mango']\n",
            "['banan', 'apple', 'cherry']\n",
            "['apple', 'banan', 'cherry']\n",
            "['cherry', 'banan', 'apple']\n",
            "[]\n"
          ]
        }
      ]
    },
    {
      "cell_type": "markdown",
      "source": [
        "Tuples:\n",
        "      It is used to store multiple items in a single variable. unchangable,ordered"
      ],
      "metadata": {
        "id": "AdOcFgDMfwJ9"
      }
    },
    {
      "cell_type": "code",
      "source": [
        "fruits = (\"orange\", \"apple\", \"banana\")\n",
        "\n",
        "print(fruits[0])\n",
        "\n",
        "print(fruits.count(\"orange\"))\n",
        "\n",
        "print(fruits.index(\"banana\"))\n",
        "\n",
        "o, b, c = fruits\n",
        "print(o,b,c)\n",
        "\n",
        "nested = ((1, 2), (3, 4))\n",
        "print(nested[0][1])\n",
        "\n",
        "name = (\"hello\",)\n",
        "print(type(name))"
      ],
      "metadata": {
        "colab": {
          "base_uri": "https://localhost:8080/"
        },
        "id": "Gk4WGTYBf3Fc",
        "outputId": "131b9373-3b94-4ed8-962e-b0411f77450c"
      },
      "execution_count": null,
      "outputs": [
        {
          "output_type": "stream",
          "name": "stdout",
          "text": [
            "orange\n",
            "1\n",
            "2\n",
            "orange apple banana\n",
            "2\n",
            "<class 'tuple'>\n"
          ]
        }
      ]
    },
    {
      "cell_type": "markdown",
      "source": [
        "methods of tuples:"
      ],
      "metadata": {
        "id": "MrO2StxrgzsS"
      }
    },
    {
      "cell_type": "code",
      "source": [
        "names= (\"deepu\",\"veera\",\"asha\",\"deepu\",\"nagu\")\n",
        "\n",
        "#count the str\n",
        "n=names.count(\"deepu\")\n",
        "print(n)\n",
        "\n",
        "#find the index\n",
        "n=names.index(\"nagu\")\n",
        "print(n)"
      ],
      "metadata": {
        "colab": {
          "base_uri": "https://localhost:8080/"
        },
        "id": "7VHs7ISQg2Py",
        "outputId": "cf17f9db-3fa2-4b28-8be7-e2e1d79d0ad0"
      },
      "execution_count": null,
      "outputs": [
        {
          "output_type": "stream",
          "name": "stdout",
          "text": [
            "2\n",
            "4\n"
          ]
        }
      ]
    },
    {
      "cell_type": "markdown",
      "source": [
        "sets:unordered, unchangeable*, and unindexed.\n"
      ],
      "metadata": {
        "id": "lFbfsACPhb8l"
      }
    },
    {
      "cell_type": "code",
      "source": [
        "numbers = {1, 2, 3, 4}\n",
        "\n",
        "numbers.add(5)\n",
        "print(numbers)\n",
        "\n",
        "numbers.remove(2)\n",
        "print(numbers)\n",
        "\n",
        "# union\n",
        "a = {1, 2}\n",
        "b = {2, 3}\n",
        "print(a.union(b))\n",
        "\n",
        "# intersection\n",
        "print(a.intersection(b))\n",
        "\n",
        "# difference\n",
        "print(a.difference(b))"
      ],
      "metadata": {
        "colab": {
          "base_uri": "https://localhost:8080/"
        },
        "id": "rQcY-2tThgYA",
        "outputId": "adeda805-feb3-4dd7-c4b4-10b55eb66aeb"
      },
      "execution_count": null,
      "outputs": [
        {
          "output_type": "stream",
          "name": "stdout",
          "text": [
            "{1, 2, 3, 4, 5}\n",
            "{1, 3, 4, 5}\n",
            "{1, 2, 3}\n",
            "{2}\n",
            "{1}\n"
          ]
        }
      ]
    },
    {
      "cell_type": "code",
      "source": [
        "a={3,4,6}\n",
        "\n",
        "#adding a num\n",
        "a.add(7)\n",
        "print(a)\n",
        "\n",
        "#removing a num\n",
        "a.remove(4)\n",
        "print(a)\n",
        "\n",
        "#copy the set\n",
        "a.copy()\n",
        "print(a)\n",
        "\n",
        "#discard set\n",
        "a.discard(3)\n",
        "print(a)\n",
        "\n",
        "#clear th set\n",
        "a.clear()\n",
        "print(a)"
      ],
      "metadata": {
        "colab": {
          "base_uri": "https://localhost:8080/"
        },
        "id": "sDuFrqsYiCUx",
        "outputId": "d914e062-0166-4fcf-c54d-0afb58c8dfff"
      },
      "execution_count": null,
      "outputs": [
        {
          "output_type": "stream",
          "name": "stdout",
          "text": [
            "{3, 4, 6, 7}\n",
            "{3, 6, 7}\n",
            "{3, 6, 7}\n",
            "{6, 7}\n",
            "set()\n"
          ]
        }
      ]
    },
    {
      "cell_type": "markdown",
      "source": [
        "Dictinoary: it has a key and value."
      ],
      "metadata": {
        "id": "svENRuACjbC1"
      }
    },
    {
      "cell_type": "code",
      "source": [
        "student = {\"name\": \"Rahul\", \"age\": 21, \"course\": \"MERN\"}\n",
        "\n",
        "# Access value by key\n",
        "print(student[\"name\"])\n",
        "\n",
        "# Add new key-value pair\n",
        "student[\"grade\"] = \"A\"\n",
        "\n",
        "# Update existing value\n",
        "student[\"age\"] = 22\n",
        "\n",
        "# Remove key\n",
        "student.pop(\"course\")\n",
        "\n",
        "#LOOP\n",
        "for key, value in student.items():\n",
        "    print(key, value)\n",
        "\n",
        "# Check if key exists\n",
        "print(\"name\" in student)\n",
        "\n",
        "# Get value with default\n",
        "print(student.get(\"marks\", 0))"
      ],
      "metadata": {
        "colab": {
          "base_uri": "https://localhost:8080/"
        },
        "id": "kHDEbLR9jiRu",
        "outputId": "355e933d-5c77-4bbb-ed94-82b59602b5c2"
      },
      "execution_count": null,
      "outputs": [
        {
          "output_type": "stream",
          "name": "stdout",
          "text": [
            "Rahul\n",
            "name Rahul\n",
            "age 22\n",
            "grade A\n",
            "True\n",
            "0\n"
          ]
        }
      ]
    },
    {
      "cell_type": "markdown",
      "source": [
        "dictionary methods:"
      ],
      "metadata": {
        "id": "41dvhHvAkRlj"
      }
    },
    {
      "cell_type": "code",
      "source": [
        "student = {\"name\": \"deepu\", \"age\": 20}\n",
        "\n",
        "student.get(\"age\")\n",
        "print(student)\n",
        "\n",
        "student.keys()\n",
        "print(student)\n",
        "\n",
        "student.values()\n",
        "print(student)\n",
        "\n",
        "student.items()\n",
        "print(student)\n",
        "\n",
        "student.update({\"age\": 20})\n",
        "print(student)\n",
        "\n",
        "student.pop(\"name\")\n",
        "print(student)\n",
        "''\n",
        "student.clear()\n",
        "print(student)"
      ],
      "metadata": {
        "id": "uzRVs8rhkUau"
      },
      "execution_count": null,
      "outputs": []
    },
    {
      "cell_type": "markdown",
      "source": [
        "If-else condition:Equals: a == b\n",
        "Not Equals: a != b\n",
        "Less than: a < b\n",
        "Less than or equal to: a <= b\n",
        "Greater than: a > b\n",
        "Greater than or equal to: a >= b"
      ],
      "metadata": {
        "id": "rzi6paGVkn4T"
      }
    },
    {
      "cell_type": "code",
      "source": [
        "a=int(input(\"enter your age:\"))\n",
        "if a<=5:\n",
        "  print(\"small kids\")\n",
        "else:\n",
        "  print(\"childern\")"
      ],
      "metadata": {
        "id": "n_1yRVuwkr0H"
      },
      "execution_count": null,
      "outputs": []
    },
    {
      "cell_type": "markdown",
      "source": [
        "while loop:\n"
      ],
      "metadata": {
        "id": "GXKHiXE0lq4p"
      }
    },
    {
      "cell_type": "code",
      "source": [
        "i = 1\n",
        "while i < 6:\n",
        "  print(i)\n",
        "  i += 1"
      ],
      "metadata": {
        "id": "kZ8_MDBMltK8"
      },
      "execution_count": null,
      "outputs": []
    },
    {
      "cell_type": "code",
      "source": [
        "#for loop\n",
        "for i in range(3):\n",
        "  print(\"DEEPU\")\n",
        "\n",
        "#nested loops:\n",
        "adj = [\"red\", \"big\", \"tasty\"]\n",
        "fruits = [\"apple\", \"banana\", \"cherry\"]\n",
        "\n",
        "for x in adj:\n",
        "  for y in fruits:\n",
        "    print(x, y)\n",
        "\n"
      ],
      "metadata": {
        "id": "k9tz-5WZmCrG"
      },
      "execution_count": null,
      "outputs": []
    },
    {
      "cell_type": "markdown",
      "source": [
        "Match statements:\n",
        "Instead of writing many if..else statements, you can use the match statement.syntax:match expression:\n",
        "  case x:\n",
        "    code block\n",
        "  case y:\n",
        "    code block\n",
        "  case z:\n",
        "    code block\n"
      ],
      "metadata": {
        "id": "-b1nZNI4m9wj"
      }
    },
    {
      "cell_type": "code",
      "source": [
        "day = 4\n",
        "match day:\n",
        "  case 1:\n",
        "    print(\"Monday\")\n",
        "  case 2:\n",
        "    print(\"Tuesday\")\n",
        "  case 3:\n",
        "    print(\"Wednesday\")\n",
        "  case 4:\n",
        "    print(\"Thursday\")\n",
        "  case 5:\n",
        "    print(\"Friday\")\n",
        "  case 6:\n",
        "    print(\"Saturday\")\n",
        "  case 7:\n",
        "    print(\"Sunday\")\n",
        "\n",
        "\n",
        "\n",
        "#exaamples:\n",
        "\n",
        "day = 6\n",
        "match day:\n",
        "  case 6:\n",
        "    print(\"Today is Saturday\")\n",
        "  case 8:\n",
        "    print(\"Today is Sunday\")\n",
        "  case _:\n",
        "    print(\"Looking forward to the Weekend\")"
      ],
      "metadata": {
        "id": "MwMCvkcunKge"
      },
      "execution_count": null,
      "outputs": []
    },
    {
      "cell_type": "markdown",
      "source": [
        "# 04/08/2025"
      ],
      "metadata": {
        "id": "X2ECFqHGRVV7"
      }
    },
    {
      "cell_type": "markdown",
      "source": [
        "Loops :\n",
        "       A for loop is used for iterating over a sequence (that is either a list, a tuple, a dictionary, a set, or a string).   "
      ],
      "metadata": {
        "id": "LL55mNY4Tgfv"
      }
    },
    {
      "cell_type": "code",
      "source": [
        "#Print each fruit in a fruit list:\n",
        "fruits=[\"Mango\",\"Apple\",\"orange\",\"Banana\"]\n",
        "for i in fruits:\n",
        "  print(i)\n",
        "\n",
        "#looping letters:\n",
        "a=\"Deepu\"\n",
        "for i in a:\n",
        "  print(i)\n",
        "\n",
        "#exit from the loop:\n",
        "a=[\"Deepu\",\"Baby\",\"Nagu\",\"Sai\"]\n",
        "for i in a:\n",
        "  print(i)\n",
        "  if i==\"Nagu\":\n",
        "    break\n",
        "\n",
        "#exit from the loop but before from the print:\n",
        "a=[\"Deepu\",\"Baby\",\"Nagu\",\"Sai\"]\n",
        "for i in a:\n",
        "  if i==\"Nagu\":\n",
        "    break\n",
        "  print(i)\n",
        "\n",
        "#continue statement:\n",
        "a=[\"Deepu\",\"Baby\",\"Nagu\",\"Sai\"]\n",
        "for i in a:\n",
        "  if i==\"Nagu\":\n",
        "    continue\n",
        "  print(i)\n",
        "\n",
        "#use range :\n",
        "for i in range(10):\n",
        "  print(i)\n",
        "\n",
        "for i in range(3,6):\n",
        "  print(i)\n",
        "\n",
        "#increment sequence:\n",
        "for i in range(1,10,2):\n",
        "  print(i)\n",
        "\n",
        "for i in range(1,6,2):\n",
        "  print(i)\n",
        "else:\n",
        "  print(\"Finished\")\n",
        "\n",
        "for i in range(10):\n",
        "  if i==8:\n",
        "    break\n",
        "  print(i)\n",
        "else:\n",
        "  print(\"finished\")"
      ],
      "metadata": {
        "id": "19PxTRDZRk_G"
      },
      "execution_count": null,
      "outputs": []
    },
    {
      "cell_type": "markdown",
      "source": [
        "Nested loop:\n"
      ],
      "metadata": {
        "id": "3-BEOYZLbCpp"
      }
    },
    {
      "cell_type": "code",
      "source": [
        "#nested loop:\n",
        "a=[\"deepu\",\"durga\",\"nagu\"]\n",
        "b=[\"sai\",\"sai\",\"siva\"]\n",
        "for i in a:\n",
        "  for j in b:\n",
        "    print(i,j)"
      ],
      "metadata": {
        "id": "rPI3O4N8bFFB"
      },
      "execution_count": null,
      "outputs": []
    },
    {
      "cell_type": "code",
      "source": [
        "for i in range(1,11):\n",
        "  print(i)\n",
        "\n",
        "for i in range(2,20,2):\n",
        "  print(i)\n",
        "\n",
        "a=int(input(\"enter a number:\"))\n",
        "for i in range(1,11):\n",
        "  print(a,\"X\",i,\"=\",a*i)\n"
      ],
      "metadata": {
        "id": "WsfZMro1dhur"
      },
      "execution_count": null,
      "outputs": []
    },
    {
      "cell_type": "code",
      "source": [
        "#Print numbers from 20 down to 1 using a for loop:\n",
        "for i in range(20,0,-1):\n",
        "  print(i)"
      ],
      "metadata": {
        "id": "EJS1SEg-e4oX"
      },
      "execution_count": null,
      "outputs": []
    },
    {
      "cell_type": "code",
      "source": [
        "#factorial:\n",
        "a=int(input(\"enter a number:\"))\n",
        "fact=1\n",
        "for i in range(1,n+1):\n",
        "  fact*=i\n",
        "  print(fact)"
      ],
      "metadata": {
        "id": "_KmpIdTSg9XA"
      },
      "execution_count": null,
      "outputs": []
    },
    {
      "cell_type": "code",
      "source": [
        "#count no of odd numbers in list:\n",
        "a=[1,3,4,6,8,4,9,5,7,3,13,2,335]\n",
        "odd_count=0\n",
        "for i in a:\n",
        "  if i%2!=0:\n",
        "    odd_count+=1\n",
        "print(odd_count)\n",
        "\n",
        "\n",
        "#Squares:\n",
        "a=int(input(\"enter a num :\"))\n",
        "total=0\n",
        "for i in range(1,6):\n",
        "  total+=i**2\n",
        "print(total)"
      ],
      "metadata": {
        "id": "MizmASieisvM"
      },
      "execution_count": null,
      "outputs": []
    },
    {
      "cell_type": "code",
      "source": [
        "for i in range(1,16):\n",
        "  if i%3==0 and i%5==0:\n",
        "    print(\"FIZZBUZZ\")\n",
        "  elif i%3==0:\n",
        "    print(\"FIZZ\")\n",
        "  elif i%5==0:\n",
        "    print(\"BUZZ\")\n",
        "  else:\n",
        "    print(i)\n"
      ],
      "metadata": {
        "id": "GfmH3pP3sYQF"
      },
      "execution_count": null,
      "outputs": []
    },
    {
      "cell_type": "markdown",
      "source": [
        "while:With the while loop we can execute a set of statements as long as a condition is true."
      ],
      "metadata": {
        "id": "Pfag8EZzt3h0"
      }
    },
    {
      "cell_type": "code",
      "source": [
        "#Basic example:\n",
        "i=1\n",
        "while i<6:\n",
        "  print(i)\n",
        "  i+=1\n",
        "\n",
        "#break in while :\n",
        "i=1\n",
        "while i<4:\n",
        "  print(i)\n",
        "  if i==3:\n",
        "    break\n",
        "  i+=1\n",
        "\n",
        "#continue:\n",
        "i=0\n",
        "while i<4:\n",
        "  i+=1\n",
        "  if i==3:\n",
        "    continue\n",
        "  print(i)\n",
        "\n",
        "i=1\n",
        "while i<6:\n",
        "  print(i)\n",
        "  i+=1\n",
        "else:\n",
        "  print(\"no more numbers\")"
      ],
      "metadata": {
        "id": "F-0zuTojuFQr"
      },
      "execution_count": null,
      "outputs": []
    },
    {
      "cell_type": "code",
      "source": [
        "#Keep asking the user for numbers and add them to a total. Stop and print the sum if the user enters a negative number.\n",
        "n=int(input(\"enter a nnumber:\"))\n",
        "total=0\n",
        "while n>=0:\n",
        "  total+=n\n",
        "  n=int(input(\"enter a number:\"))\n",
        "print(total)\n",
        "\n"
      ],
      "metadata": {
        "id": "SguFAmVfyIDY"
      },
      "execution_count": null,
      "outputs": []
    },
    {
      "cell_type": "code",
      "source": [
        "#count a number in a digit:\n",
        "a=int(input(\"enter a number:\"))\n",
        "count=0\n",
        "while a>0:\n",
        "  a//=10\n",
        "  count+=1\n",
        "print(count)"
      ],
      "metadata": {
        "id": "MZiOzbVn0k9Y"
      },
      "execution_count": null,
      "outputs": []
    },
    {
      "cell_type": "code",
      "source": [
        "#multiplication table:\n",
        "a=int(input(\"enter a number:\"))\n",
        "i=1\n",
        "while i<=10:\n",
        "  print(a,\"X\",i,\"=\",a*i)\n",
        "  i+=1\n"
      ],
      "metadata": {
        "id": "WopjnYuf2LBN"
      },
      "execution_count": null,
      "outputs": []
    },
    {
      "cell_type": "code",
      "source": [
        "#reverse:\n",
        "a=int(input(\"enter a number:\"))\n",
        "while a>0:\n",
        "  digit=a%10\n",
        "  print(digit,end=\"\")\n",
        "  a//=10\n"
      ],
      "metadata": {
        "id": "XlvJzk0O3HYD"
      },
      "execution_count": null,
      "outputs": []
    },
    {
      "cell_type": "code",
      "source": [
        "#sum of the digit:\n",
        "a=int(input(\"enter a number:\"))\n",
        "total=0\n",
        "while a>0:\n",
        "  total+=a%10\n",
        "  a//=10\n",
        "print(total)\n"
      ],
      "metadata": {
        "id": "E4bESFd05DY6"
      },
      "execution_count": null,
      "outputs": []
    },
    {
      "cell_type": "code",
      "source": [
        "#even:\n",
        "i=2\n",
        "while i<10:\n",
        "  i+=2\n",
        "  print(i)\n"
      ],
      "metadata": {
        "id": "lw2_UZ_V7Qp4"
      },
      "execution_count": null,
      "outputs": []
    },
    {
      "cell_type": "code",
      "source": [
        "x=int(input(\"enter a num\"))\n",
        "for i in range(1,x+1):\n",
        "  print(i*\"*\")\n",
        "  print()"
      ],
      "metadata": {
        "colab": {
          "base_uri": "https://localhost:8080/"
        },
        "id": "bm3IM377Yhjm",
        "outputId": "de727c8f-1802-4eea-c653-cdc761364fc6"
      },
      "execution_count": null,
      "outputs": [
        {
          "output_type": "stream",
          "name": "stdout",
          "text": [
            "enter a num7\n",
            "*\n",
            "\n",
            "**\n",
            "\n",
            "***\n",
            "\n",
            "****\n",
            "\n",
            "*****\n",
            "\n",
            "******\n",
            "\n",
            "*******\n",
            "\n"
          ]
        }
      ]
    },
    {
      "cell_type": "markdown",
      "source": [
        "# Functions:\n",
        "A function is a block of code which only runs when it is called.\n",
        "You can pass data, known as parameters, into a function."
      ],
      "metadata": {
        "id": "VxVIOKOC4U-V"
      }
    },
    {
      "cell_type": "code",
      "source": [
        "def my_function():\n",
        "  print(\"Hi , I am deepu\")\n",
        "my_function()\n",
        "\n",
        "\n",
        "def my_function(deepu):\n",
        "  print(deepu +\"refsner\")\n",
        "\n",
        "my_function(\"nagu\")\n",
        "my_function(\"sai\")\n",
        "my_function(\"durga\")\n",
        "\n",
        "\n",
        "def my_function(metamask,heptamask):\n",
        "  print(metamask +\" \"+heptamask)\n",
        "\n",
        "my_function(\"name\",\"frjf\")\n",
        "\n",
        "def my_function(*mom):\n",
        "  print(\"the first mom ever:\",mom[3])\n",
        "\n",
        "my_function(\"baby\",\"durga\",\"Amma\",\"Durgababy\")\n",
        "\n",
        "def my_function(lord1,lord2,lord3):\n",
        "  print(\"My most fav god ever is:\",lord2)\n",
        "\n",
        "my_function(lord1 =\"Hanuman\",lord2 = \"Shivayya\",lord3 = \"Ganesh\")\n",
        "\n",
        "def my_function(**lord):\n",
        "  print(\"My most fav god ever is:\"+lord[\"lname\"])\n",
        "\n",
        "my_function(lord =\"Hanuman\",lname = \"Shivayya\")\n",
        "\n",
        "def my_function(name=\"DURGA\"):\n",
        "  print(\"My name is:\"+ name)\n",
        "\n",
        "\n",
        "my_function(\"DEEPU\")\n",
        "my_function(\"NAGU\")\n",
        "my_function()\n",
        "my_function(\"BABY\")\n",
        "\n",
        "\n",
        "def my_function(fruits):\n",
        "  for i in fruits:\n",
        "    print(i)\n",
        "food=[\"biriyani\",\"icecream\",\"chocolates\"]\n",
        "\n",
        "my_function(food)\n",
        "\n",
        "\n",
        "def my_function(i):\n",
        "  return 3*i\n",
        "\n",
        "print(my_function(1))\n",
        "print(my_function(2))\n",
        "print(my_function(3))\n",
        "\n",
        "\n",
        "def my_function(x,/):\n",
        "  print(x)\n",
        "\n",
        "my_function(4)\n",
        "\n",
        "def my_function(i):\n",
        "  print(i)\n",
        "\n",
        "my_function(i=3)\n",
        "\n",
        "def my_function(*,i):\n",
        "  print(i)\n",
        "\n",
        "my_function(i=4)\n"
      ],
      "metadata": {
        "colab": {
          "base_uri": "https://localhost:8080/"
        },
        "id": "YmXjJ9ii4cHQ",
        "outputId": "0eb1a823-bbc7-4aca-d7db-5f5fa687960f"
      },
      "execution_count": null,
      "outputs": [
        {
          "output_type": "stream",
          "name": "stdout",
          "text": [
            "Hi , I am deepu\n",
            "nagurefsner\n",
            "sairefsner\n",
            "durgarefsner\n",
            "name frjf\n",
            "the first mom ever: Durgababy\n",
            "My most fav god ever is: Shivayya\n",
            "My most fav god ever is:Shivayya\n",
            "My name is:DEEPU\n",
            "My name is:NAGU\n",
            "My name is:DURGA\n",
            "My name is:BABY\n",
            "biriyani\n",
            "icecream\n",
            "chocolates\n",
            "3\n",
            "6\n",
            "9\n",
            "4\n",
            "3\n",
            "4\n"
          ]
        }
      ]
    },
    {
      "cell_type": "code",
      "source": [
        "def add():\n",
        "  a=2\n",
        "  b=3\n",
        "  print(a+b)\n",
        "add()\n",
        "\n",
        "def add(a,b):\n",
        "  print(a+b)\n",
        "a=int(input(\"enter a value:\"))\n",
        "b=int(input(\"enter b value:\"))\n",
        "add(a,b)\n",
        "\n",
        "\n",
        "def add(a,b):\n",
        "  print(a+b)\n",
        "x=int(input(\"enter a value:\"))\n",
        "y=int(input(\"enter b value:\"))\n",
        "add(x,y)\n",
        "\n",
        "def add(a,b):\n",
        "  print(a)\n",
        "  print(b)\n",
        "x=10\n",
        "y=20\n",
        "add(x,y)\n",
        "add(y,x)\n",
        "add(x+y)\n",
        "add(y+x)"
      ],
      "metadata": {
        "colab": {
          "base_uri": "https://localhost:8080/"
        },
        "id": "c22PKRSijJDB",
        "outputId": "c49e94b1-5115-4591-990a-c294fc5e8195"
      },
      "execution_count": null,
      "outputs": [
        {
          "output_type": "stream",
          "name": "stdout",
          "text": [
            "5\n",
            "enter a value:3\n",
            "enter b value:4\n",
            "7\n",
            "enter a value:5\n",
            "enter b value:7\n",
            "12\n",
            "10\n",
            "20\n",
            "20\n",
            "10\n"
          ]
        }
      ]
    },
    {
      "cell_type": "code",
      "source": [
        "c=500\n",
        "def add(c,d):\n",
        "  print(c)\n",
        "  print(d)\n",
        "x=10\n",
        "y=20\n",
        "add(x,y)\n",
        "add(y,x)\n",
        "print(c)\n",
        "\n",
        "c=500\n",
        "def add(c,d):\n",
        "  print(c)\n",
        "  print(d)\n",
        "x=10\n",
        "y=20\n",
        "add(x,y)\n",
        "add(y,x)\n",
        "print(c)\n",
        "add(d=y,c=x)"
      ],
      "metadata": {
        "colab": {
          "base_uri": "https://localhost:8080/"
        },
        "id": "B6_xHCS7mb49",
        "outputId": "f32e05cb-5097-425f-a22e-1b75669c9476"
      },
      "execution_count": null,
      "outputs": [
        {
          "output_type": "stream",
          "name": "stdout",
          "text": [
            "10\n",
            "20\n",
            "20\n",
            "10\n",
            "500\n",
            "10\n",
            "20\n",
            "20\n",
            "10\n",
            "500\n",
            "10\n",
            "20\n"
          ]
        }
      ]
    },
    {
      "cell_type": "code",
      "source": [
        "def add(a,b):\n",
        "  return a+b\n",
        "x=add(12,19)\n",
        "print(x+30)\n",
        "\n",
        "def add(a,b):\n",
        "  return a+b\n",
        "add(10,20)"
      ],
      "metadata": {
        "colab": {
          "base_uri": "https://localhost:8080/"
        },
        "id": "WI8g_TgOpXUG",
        "outputId": "e65daa34-b992-40c3-9087-97d20e971d58"
      },
      "execution_count": null,
      "outputs": [
        {
          "output_type": "stream",
          "name": "stdout",
          "text": [
            "61\n"
          ]
        },
        {
          "output_type": "execute_result",
          "data": {
            "text/plain": [
              "30"
            ]
          },
          "metadata": {},
          "execution_count": 21
        }
      ]
    },
    {
      "cell_type": "code",
      "source": [
        "def add(a,b):\n",
        "  return a+b\n",
        "def sub(a,b):\n",
        "  return a-b\n",
        "def multiple(a,b):\n",
        "  return a*b\n",
        "def division(a,b):\n",
        "  return a/b\n",
        "def cal(a,b,opp):\n",
        "  if opp==1:\n",
        "    return add(a,b)\n",
        "  elif opp==2:\n",
        "    return sub(a,b)\n",
        "  elif opp==3:\n",
        "    return multiple(a,b)\n",
        "  elif opp==4:\n",
        "    return division(a,b)\n",
        "  else:\n",
        "    return 'wrong operator'\n",
        "x=int(input(\"enter a value:\"))\n",
        "y=int(input(\"enter b value:\"))\n",
        "print(\"enter 1 to add \\n enter 2 to sub \\n enter 3 to multiple \\n enter 4 to divide\")\n",
        "z=int(input(\"enter operator:\"))\n",
        "r=cal(x,y,z)\n",
        "print(r)"
      ],
      "metadata": {
        "colab": {
          "base_uri": "https://localhost:8080/"
        },
        "id": "Dod9MzVIqk67",
        "outputId": "8d482b24-bf96-45a1-ced4-c50c1058defb"
      },
      "execution_count": null,
      "outputs": [
        {
          "output_type": "stream",
          "name": "stdout",
          "text": [
            "enter a value:2\n",
            "enter b value:3\n",
            "enter 1 to add \n",
            " enter 2 to sub \n",
            " enter 3 to multiple \n",
            " enter 4 to divide\n",
            "enter operator:2\n",
            "-1\n"
          ]
        }
      ]
    },
    {
      "cell_type": "code",
      "source": [
        "def coffe_type(coffetype):\n",
        "  if coffetype ==1:\n",
        "    return \"espresso\"\n",
        "  elif coffetype ==2 :\n",
        "    return \"latte\"\n",
        "  elif coffetype == 3:\n",
        "    return \"cappuccino\"\n",
        "  else:\n",
        "    return 'not avaliable'\n",
        "print(\"enter 1 for espresso  \\n enter 2 for latte  \\n enter 3 for cappuccino\")\n",
        "a=int(input(\"enter the coffetype:\"))\n",
        "r=coffe_type(a)\n",
        "print(r)\n"
      ],
      "metadata": {
        "colab": {
          "base_uri": "https://localhost:8080/"
        },
        "id": "ryVFJU6k0Lnv",
        "outputId": "45b7f29d-548c-4d7a-c4f0-46bb685b9602"
      },
      "execution_count": null,
      "outputs": [
        {
          "output_type": "stream",
          "name": "stdout",
          "text": [
            "enter 1 for espresso  \n",
            " enter 2 for latte  \n",
            " enter 3 for cappuccino\n",
            "enter the coffetype:3\n",
            "cappuccino\n"
          ]
        }
      ]
    },
    {
      "cell_type": "code",
      "source": [
        "def my_function(coffes):\n",
        "  for i in coffes:\n",
        "    print(i)\n",
        "avalible=[\"espresso\",\"latte\",\"cappuccino\"]\n",
        "\n",
        "my_function(avalible)\n",
        "\n",
        "\n"
      ],
      "metadata": {
        "colab": {
          "base_uri": "https://localhost:8080/"
        },
        "id": "ePVEMi0qBjjg",
        "outputId": "a75a095c-cace-478b-e6c4-67b2cf166c11"
      },
      "execution_count": null,
      "outputs": [
        {
          "output_type": "stream",
          "name": "stdout",
          "text": [
            "espresso\n",
            "latte\n",
            "cappuccino\n"
          ]
        }
      ]
    },
    {
      "cell_type": "code",
      "source": [
        "MENU = {\n",
        "    \"espresso\": {\"ingredients\": {\"water\": 50, \"coffee\": 18}, \"cost\": 50},\n",
        "    \"latte\": {\"ingredients\": {\"water\": 200, \"milk\": 150, \"coffee\": 24}, \"cost\": 100},\n",
        "    \"cappuccino\": {\"ingredients\": {\"water\": 250, \"milk\": 100, \"coffee\": 24}, \"cost\": 120}\n",
        "}\n",
        "\n",
        "resources = {\n",
        "    \"water\": 300,\n",
        "    \"milk\": 200,\n",
        "    \"coffee\": 100,\n",
        "    \"money\": 0.0\n",
        "}\n",
        "\n",
        "def print_report():\n",
        "    print(f\"Water: {resources['water']}ml\")\n",
        "    print(f\"Milk: {resources['milk']}ml\")\n",
        "    print(f\"Coffee: {resources['coffee']}g\")\n",
        "    print(f\"Money: ₹{resources['money']}\")\n",
        "\n",
        "def check_resources(ingredients):\n",
        "    for item in ingredients:\n",
        "        if ingredients[item] > resources.get(item, 0):\n",
        "            print(f\"Sorry, not enough {item}.\")\n",
        "            return False\n",
        "    return True\n",
        "\n",
        "def process_rupees():\n",
        "    try:\n",
        "        rupees = float(input(\"Please insert ₹: \"))\n",
        "        return round(rupees, 2)\n",
        "    except ValueError:\n",
        "        print(\"Invalid input. Please enter a number.\")\n",
        "        return 0.0\n",
        "\n",
        "def is_transaction_successful(payment, cost):\n",
        "    if payment < cost:\n",
        "        print(\"Sorry, that's not enough money. Money refunded.\")\n",
        "        return False\n",
        "    change = round(payment - cost, 2)\n",
        "    if change > 0:\n",
        "        print(f\"Here is ₹{change} in change.\")\n",
        "    resources[\"money\"] += cost\n",
        "    return True\n",
        "\n",
        "def make_coffee(drink_name, ingredients):\n",
        "    for item in ingredients:\n",
        "        resources[item] -= ingredients[item]\n",
        "    print(f\"Here is your {drink_name}. Enjoy!\")\n",
        "\n",
        "is_on = True\n",
        "\n",
        "while is_on:\n",
        "    choice = input(\"What would you like? (espresso/latte/cappuccino): \").lower()\n",
        "\n",
        "    if choice == \"off\":\n",
        "        print(\"Turning off the coffee machine. Goodbye!\")\n",
        "        is_on = False\n",
        "\n",
        "    elif choice == \"report\":\n",
        "        print_report()\n",
        "\n",
        "    elif choice in MENU:\n",
        "        drink = MENU[choice]\n",
        "        if check_resources(drink[\"ingredients\"]):\n",
        "            payment = process_rupees()\n",
        "            if is_transaction_successful(payment, drink[\"cost\"]):\n",
        "                make_coffee(choice, drink[\"ingredients\"])\n",
        "    else:\n",
        "        print(\"Invalid input. Please choose from espresso/latte/cappuccino.\")"
      ],
      "metadata": {
        "id": "kVbTQJ3SAKqi",
        "colab": {
          "base_uri": "https://localhost:8080/"
        },
        "outputId": "7c14fa0f-b288-4771-8a31-491ff9e01122"
      },
      "execution_count": null,
      "outputs": [
        {
          "output_type": "stream",
          "name": "stdout",
          "text": [
            "What would you like? (espresso/latte/cappuccino): latte\n",
            "Please insert ₹: 200\n",
            "Here is ₹100.0 in change.\n",
            "Here is your latte. Enjoy!\n",
            "What would you like? (espresso/latte/cappuccino): latte\n",
            "Sorry, not enough water.\n",
            "What would you like? (espresso/latte/cappuccino): 100\n",
            "Invalid input. Please choose from espresso/latte/cappuccino.\n",
            "What would you like? (espresso/latte/cappuccino): latte\n",
            "Sorry, not enough water.\n"
          ]
        }
      ]
    }
  ]
}